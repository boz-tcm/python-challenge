{
 "cells": [
  {
   "cell_type": "code",
   "execution_count": null,
   "id": "7af36b9a-aeae-4cef-a3e4-9a5e35dcae57",
   "metadata": {},
   "outputs": [],
   "source": [
    "#'PyBank' Jupyter Notebook."
   ]
  }
 ],
 "metadata": {
  "kernelspec": {
   "display_name": "Python 3 (ipykernel)",
   "language": "python",
   "name": "python3"
  },
  "language_info": {
   "codemirror_mode": {
    "name": "ipython",
    "version": 3
   },
   "file_extension": ".py",
   "mimetype": "text/x-python",
   "name": "python",
   "nbconvert_exporter": "python",
   "pygments_lexer": "ipython3",
   "version": "3.10.11"
  }
 },
 "nbformat": 4,
 "nbformat_minor": 5
}
