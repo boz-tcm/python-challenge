{
 "cells": [
  {
   "cell_type": "markdown",
   "id": "4f81db83-5f2a-4d93-bebf-5aa13ae6f0e5",
   "metadata": {},
   "source": [
    "# **Project Title: 'PyBank' Jupyter Notebook. <br>Project Owner: Todd C. Meier.**"
   ]
  },
  {
   "cell_type": "markdown",
   "id": "113c9b54-2309-4848-a9ac-aa9319e6ffa5",
   "metadata": {},
   "source": [
    "#### *The purpose of this notebook is to analyze our Company's financial records tabulated in the dataset 'budget_data.csv'.*"
   ]
  },
  {
   "cell_type": "code",
   "execution_count": null,
   "id": "4a80d3cb-3dc5-4012-a443-13863b58169f",
   "metadata": {},
   "outputs": [],
   "source": []
  }
 ],
 "metadata": {
  "kernelspec": {
   "display_name": "Python 3 (ipykernel)",
   "language": "python",
   "name": "python3"
  },
  "language_info": {
   "codemirror_mode": {
    "name": "ipython",
    "version": 3
   },
   "file_extension": ".py",
   "mimetype": "text/x-python",
   "name": "python",
   "nbconvert_exporter": "python",
   "pygments_lexer": "ipython3",
   "version": "3.10.11"
  }
 },
 "nbformat": 4,
 "nbformat_minor": 5
}
