{
 "cells": [
  {
   "cell_type": "markdown",
   "id": "4f81db83-5f2a-4d93-bebf-5aa13ae6f0e5",
   "metadata": {},
   "source": [
    "# **Project Title: 'PyBank' Jupyter Notebook. <br>Project Owner: Todd C. Meier.**"
   ]
  },
  {
   "cell_type": "markdown",
   "id": "113c9b54-2309-4848-a9ac-aa9319e6ffa5",
   "metadata": {},
   "source": [
    "#### *The purpose of this notebook is to analyze our Company's financial records as tabulated in the dataset 'budget_data.csv'.*"
   ]
  },
  {
   "cell_type": "code",
   "execution_count": 10,
   "id": "4a80d3cb-3dc5-4012-a443-13863b58169f",
   "metadata": {
    "tags": []
   },
   "outputs": [],
   "source": [
    "# Import libraries that may be useful in this project.\n",
    "from pathlib import Path\n",
    "import csv\n",
    "import pandas as pd\n",
    "import matplotlib.pyplot as plt # A collection of functions that makes matplotlib work like MATLAB\n",
    "# %matplotlib inline # Not supported outside of Jupyter Notebook\n",
    "import numpy as np\n",
    "# install numpy-financial pkg via conda-forge, not anaconda channel: 'conda install -c conda-forge numpy-financial' or 'pip install numpy-financial'\n",
    "import numpy_financial as npf # !The importable name of the package 'numpy_financial' is different from the installed package name 'numpy-financial'"
   ]
  },
  {
   "cell_type": "code",
   "execution_count": 17,
   "id": "2dc6b281-a26c-4a52-9ac0-08f88797ed11",
   "metadata": {},
   "outputs": [
    {
     "name": "stdout",
     "output_type": "stream",
     "text": [
      "<class '_io.TextIOWrapper'>\n",
      "<class '_csv.reader'>\n",
      "<_csv.reader object at 0x130c843c0>\n",
      "True\n"
     ]
    }
   ],
   "source": [
    "# Use 'Path' function to identify relative and platform-agnostic path to Company's financial dataset 'budget_data.csv'\n",
    "path_file_nm = Path('Resources/budget_data.csv')\n",
    "# Read in Company's financial dataset 'budget_data.csv'\n",
    "# The 'with open' method is recommended as it ensures the file closes once the 'with' statement has been executed (context manager; avoids resource leaks)\n",
    "with open(path_file_nm, 'r') as file:\n",
    "    # print the datatype of the file object holding the Company's financial dataset file 'budget_data.csv'\n",
    "    print(type(file))\n",
    "    # read in the contents of the Company's financial dataset file 'budget_data.csv'\n",
    "    # budget_data = file.read()\n",
    "    budget_data = csv.reader(file, delimiter=',')\n",
    "    # print the datatype of the budget_data\n",
    "    print(type(budget_data))\n",
    "    print(budget_data) # inspect data file\n",
    "# Confirm the file has been closed and resources released; should evaluate to 'True'\n",
    "print(file.closed)"
   ]
  },
  {
   "cell_type": "code",
   "execution_count": null,
   "id": "2bf25556-dac4-4d3d-8de4-ea05cc2f0703",
   "metadata": {},
   "outputs": [],
   "source": []
  }
 ],
 "metadata": {
  "kernelspec": {
   "display_name": "Python 3 (ipykernel)",
   "language": "python",
   "name": "python3"
  },
  "language_info": {
   "codemirror_mode": {
    "name": "ipython",
    "version": 3
   },
   "file_extension": ".py",
   "mimetype": "text/x-python",
   "name": "python",
   "nbconvert_exporter": "python",
   "pygments_lexer": "ipython3",
   "version": "3.10.11"
  }
 },
 "nbformat": 4,
 "nbformat_minor": 5
}
